{
 "cells": [
  {
   "cell_type": "markdown",
   "metadata": {
    "_uuid": "ce1d3a0983be50f1824c67c864a504539fe3aa20"
   },
   "source": [
    "# Housing Prices"
   ]
  },
  {
   "cell_type": "code",
   "execution_count": null,
   "metadata": {
    "trusted": true,
    "_uuid": "31d1b48c2959d12363eee07bada9522f142790af"
   },
   "outputs": [],
   "source": [
    "# Imports and load\n",
    "import pandas as pd\n",
    "from sklearn.ensemble import RandomForestRegressor\n",
    "from sklearn.metrics import mean_absolute_error\n",
    "from sklearn.model_selection import train_test_split\n",
    "\n",
    "iowa_file_path = '../input/train.csv'\n",
    "home_data = pd.read_csv(iowa_file_path)\n",
    "\n",
    "test_data_path = '../input/test.csv'\n",
    "test_data = pd.read_csv(test_data_path)\n",
    "\n",
    "# print(home_data.columns)\n",
    "# home_data.describe(include = 'all')"
   ]
  },
  {
   "cell_type": "code",
   "execution_count": null,
   "metadata": {
    "trusted": true,
    "scrolled": true,
    "_uuid": "981cc0efd61333b2e1949b40fd2d80eaec0373aa"
   },
   "outputs": [],
   "source": [
    "# Keep only intuitive features\n",
    "features = ['MSSubClass', 'MSZoning', 'Neighborhood', 'OverallQual', 'OverallCond', 'YearBuilt', 'YearRemodAdd',\n",
    "       'ExterQual', 'ExterCond', 'BsmtQual',\n",
    "       'BsmtCond', 'TotalBsmtSF', '1stFlrSF', '2ndFlrSF',\n",
    "       'FullBath','HalfBath', 'BedroomAbvGr', 'KitchenAbvGr', 'KitchenQual',\n",
    "       'TotRmsAbvGrd', 'GarageArea', 'GarageQual',\n",
    "       'GarageCond']\n",
    "X = home_data[features].copy()\n",
    "y = home_data.SalePrice.copy()\n",
    "test_X = test_data[features].copy()\n",
    "\n",
    "X = X.dropna()\n",
    "y = y[y.index.isin(X.index)]"
   ]
  },
  {
   "cell_type": "markdown",
   "metadata": {
    "_uuid": "6c70fd54ac138887e25b8318e39f1e1cddea8fe3"
   },
   "source": [
    "Before one-hot encoding, we must join train and test data and call `get_dummies()` then. After that, we split it again.\n\nsrc: https://stackoverflow.com/questions/44026832/valueerror-number-of-features-of-the-model-must-match-the-input"
   ]
  },
  {
   "cell_type": "code",
   "execution_count": null,
   "metadata": {
    "trusted": true,
    "_uuid": "e861ee362dd5f66b47b87af478ee73a9185d5a98"
   },
   "outputs": [],
   "source": [
    "one_hot_encoded_training_predictors = pd.get_dummies(X)\n",
    "one_hot_encoded_test_predictors = pd.get_dummies(test_X)\n",
    "X, test_X = one_hot_encoded_training_predictors.align(one_hot_encoded_test_predictors, join='inner', axis=1)"
   ]
  },
  {
   "cell_type": "code",
   "execution_count": null,
   "metadata": {
    "trusted": true,
    "_uuid": "3d1ceb54ca5994b5ee88663551569057714ae94c"
   },
   "outputs": [],
   "source": [
    "# Find missing values\n",
    "missing_val_count_by_column = (X.isnull().sum())\n",
    "print(missing_val_count_by_column[missing_val_count_by_column > 0])\n",
    "\n",
    "missing_val_count_by_column = (X.isnull().sum())\n",
    "print(missing_val_count_by_column[missing_val_count_by_column > 0])"
   ]
  },
  {
   "cell_type": "code",
   "execution_count": null,
   "metadata": {
    "trusted": true,
    "_uuid": "62decd9ee3bd50b393ee9c6acef015acce2c2615"
   },
   "outputs": [],
   "source": [
    "# Find best features using a correlation matrix\n",
    "correlation_dataframe = X.copy()\n",
    "\n",
    "corr = correlation_dataframe.corr()\n",
    "corr.style.background_gradient()\n",
    "corr.style.background_gradient().set_precision(2)"
   ]
  },
  {
   "cell_type": "code",
   "execution_count": null,
   "metadata": {
    "_uuid": "d77d33240ae6896ecb505fbe911b7fa21f5875ac",
    "trusted": true
   },
   "outputs": [],
   "source": [
    "# Split into validation and training data\n",
    "train_X, val_X, train_y, val_y = train_test_split(X, y, random_state=42)\n",
    "\n",
    "# Define the model. Set random_state to 1\n",
    "rf_model = RandomForestRegressor(random_state=42)\n",
    "rf_model.fit(train_X, train_y)\n",
    "rf_val_predictions = rf_model.predict(val_X)\n",
    "rf_val_mae = mean_absolute_error(rf_val_predictions, val_y)\n",
    "\n",
    "print(\"Validation MAE for Random Forest Model: {:,.0f}\".format(rf_val_mae))"
   ]
  },
  {
   "cell_type": "code",
   "execution_count": null,
   "metadata": {
    "trusted": true,
    "_uuid": "b4fc6f0d364af9d2a92c6b6b9b9bb11c74a369db"
   },
   "outputs": [],
   "source": [
    "# To improve accuracy, create a new Random Forest model which you will train on all training data\n",
    "rf_model_on_full_data = RandomForestRegressor(random_state=42)\n",
    "\n",
    "# fit rf_model_on_full_data on all data from the \n",
    "rf_model_on_full_data.fit(X, y)"
   ]
  },
  {
   "cell_type": "code",
   "execution_count": null,
   "metadata": {
    "trusted": true,
    "_uuid": "6726d21be4df70cecbaf55ada6e0a8635dd02c50"
   },
   "outputs": [],
   "source": [
    "from sklearn.impute import SimpleImputer\n",
    "my_imputer = SimpleImputer()\n",
    "test_X = my_imputer.fit_transform(test_X)\n",
    "\n",
    "# make predictions which we will submit. \n",
    "test_preds = rf_model_on_full_data.predict(test_X)\n",
    "\n",
    "# The lines below shows you how to save your data in the format needed to score it in the competition\n",
    "output = pd.DataFrame({'Id': test_data.Id,\n",
    "                       'SalePrice': test_preds})\n",
    "\n",
    "output.to_csv('submission.csv', index=False)"
   ]
  }
 ],
 "metadata": {
  "kernelspec": {
   "display_name": "Python 3",
   "language": "python",
   "name": "python3"
  },
  "language_info": {
   "name": "python",
   "version": "3.6.6",
   "mimetype": "text/x-python",
   "codemirror_mode": {
    "name": "ipython",
    "version": 3
   },
   "pygments_lexer": "ipython3",
   "nbconvert_exporter": "python",
   "file_extension": ".py"
  }
 },
 "nbformat": 4,
 "nbformat_minor": 1
}
